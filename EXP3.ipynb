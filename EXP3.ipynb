{
 "cells": [
  {
   "cell_type": "code",
   "execution_count": null,
   "id": "a9fac800-96b2-4a92-b5d2-67c0cf4db240",
   "metadata": {},
   "outputs": [],
   "source": [
    "EXPERIMENT 3"
   ]
  },
  {
   "cell_type": "code",
   "execution_count": 4,
   "id": "1d78b80f-f467-41ae-a119-554144505689",
   "metadata": {},
   "outputs": [
    {
     "name": "stdout",
     "output_type": "stream",
     "text": [
      "Lines: 4\n",
      "Words: 21\n",
      "Characters: 124\n"
     ]
    }
   ],
   "source": [
    "if __name__ == '__main__':\n",
    "    with open('./file.txt', 'r') as file:\n",
    "        lines = file.readlines()\n",
    "        numberOfLines = len(lines)\n",
    "        numberOfWords = sum(len(line.split()) for line in lines)\n",
    "        \n",
    "        # Calculate the number of characters\n",
    "        numberOfCharacters = sum(len(line) for line in lines)\n",
    "        \n",
    "    print(f\"Lines: {numberOfLines}\")\n",
    "    print(f\"Words: {numberOfWords}\")\n",
    "    print(f\"Characters: {numberOfCharacters}\")"
   ]
  },
  {
   "cell_type": "code",
   "execution_count": null,
   "id": "11db673b-e0b2-4303-b3b4-f60a55f4110c",
   "metadata": {},
   "outputs": [],
   "source": []
  }
 ],
 "metadata": {
  "kernelspec": {
   "display_name": "Python 3 (ipykernel)",
   "language": "python",
   "name": "python3"
  },
  "language_info": {
   "codemirror_mode": {
    "name": "ipython",
    "version": 3
   },
   "file_extension": ".py",
   "mimetype": "text/x-python",
   "name": "python",
   "nbconvert_exporter": "python",
   "pygments_lexer": "ipython3",
   "version": "3.12.7"
  }
 },
 "nbformat": 4,
 "nbformat_minor": 5
}
