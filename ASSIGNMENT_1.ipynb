{
  "nbformat": 4,
  "nbformat_minor": 0,
  "metadata": {
    "colab": {
      "provenance": [],
      "include_colab_link": true
    },
    "kernelspec": {
      "name": "python3",
      "display_name": "Python 3"
    },
    "language_info": {
      "name": "python"
    }
  },
  "cells": [
    {
      "cell_type": "markdown",
      "metadata": {
        "id": "view-in-github",
        "colab_type": "text"
      },
      "source": [
        "<a href=\"https://colab.research.google.com/github/shayaan2027/PP-LAB/blob/main/ASSIGNMENT_1.ipynb\" target=\"_parent\"><img src=\"https://colab.research.google.com/assets/colab-badge.svg\" alt=\"Open In Colab\"/></a>"
      ]
    },
    {
      "cell_type": "markdown",
      "source": [
        "**ASSIGNMENT 1**\n",
        "\n",
        "NAME: Mohammad Shayaan Shaikh\n",
        "\n",
        "ROLL NO:54\n"
      ],
      "metadata": {
        "id": "mi_vh8tgWhW6"
      }
    },
    {
      "cell_type": "code",
      "execution_count": null,
      "metadata": {
        "colab": {
          "base_uri": "https://localhost:8080/"
        },
        "id": "6VBdwWCLVroG",
        "outputId": "9d5a6f91-0a63-4f60-900a-5c605c7feab5"
      },
      "outputs": [
        {
          "output_type": "stream",
          "name": "stdout",
          "text": [
            "\n",
            "1. Add a new product\n",
            "2. Update the stock of an existing product\n",
            "3. View product details\n",
            "4. Exit the program\n",
            "Enter your choice: 1\n",
            "Enter product name: Laptop\n",
            "Enter product price: 199999\n",
            "Enter product stock: 3\n",
            "Product added successfully!\n",
            "\n",
            "1. Add a new product\n",
            "2. Update the stock of an existing product\n",
            "3. View product details\n",
            "4. Exit the program\n",
            "Enter your choice: 3\n",
            "Enter product name: Laptop\n",
            "Product: Laptop, Price: $199999.0, Stock: 3\n",
            "\n",
            "1. Add a new product\n",
            "2. Update the stock of an existing product\n",
            "3. View product details\n",
            "4. Exit the program\n",
            "Enter your choice: 4\n",
            "Exiting the system. Goodbye!\n"
          ]
        }
      ],
      "source": [
        "class Product:\n",
        "    def __init__(self, name, price, stock):\n",
        "        self.name = name\n",
        "        self.price = price\n",
        "        self.stock = stock\n",
        "\n",
        "    def update_stock(self, quantity):\n",
        "        self.stock += quantity\n",
        "\n",
        "    def __str__(self):\n",
        "        return f\"Product: {self.name}, Price: ${self.price}, Stock: {self.stock}\"\n",
        "\n",
        "\n",
        "def add_product(products):\n",
        "    name = input(\"Enter product name: \")\n",
        "    price = float(input(\"Enter product price: \"))\n",
        "    stock = int(input(\"Enter product stock: \"))\n",
        "    products[name] = Product(name, price, stock)\n",
        "    print(\"Product added successfully!\")\n",
        "\n",
        "\n",
        "def update_product_stock(products):\n",
        "    name = input(\"Enter product name to update: \")\n",
        "    if name in products:\n",
        "        quantity = int(input(\"Enter quantity to add/remove: \"))\n",
        "        products[name].update_stock(quantity)\n",
        "        print(\"Stock updated successfully!\")\n",
        "    else:\n",
        "        print(\"Product not found!\")\n",
        "\n",
        "\n",
        "def view_product_details(products):\n",
        "    name = input(\"Enter product name: \")\n",
        "    if name in products:\n",
        "        print(products[name])\n",
        "    else:\n",
        "        print(\"Product not found!\")\n",
        "\n",
        "\n",
        "def main():\n",
        "    products = {}\n",
        "    while True:\n",
        "        print(\"\\n1. Add a new product\")\n",
        "        print(\"2. Update the stock of an existing product\")\n",
        "        print(\"3. View product details\")\n",
        "        print(\"4. Exit the program\")\n",
        "        choice = input(\"Enter your choice: \")\n",
        "\n",
        "        if choice == '1':\n",
        "            add_product(products)\n",
        "        elif choice == '2':\n",
        "            update_product_stock(products)\n",
        "        elif choice == '3':\n",
        "            view_product_details(products)\n",
        "        elif choice == '4':\n",
        "            print(\"Exiting the system. Goodbye!\")\n",
        "            break\n",
        "        else:\n",
        "            print(\"Invalid choice. Please try again.\")\n",
        "\n",
        "if __name__ == \"__main__\":\n",
        "    main()\n"
      ]
    }
  ]
}