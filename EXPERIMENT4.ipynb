{
 "cells": [
  {
   "cell_type": "code",
   "execution_count": 1,
   "id": "d930b49f-72ec-4bad-ab60-2d073750a7c3",
   "metadata": {},
   "outputs": [
    {
     "name": "stdout",
     "output_type": "stream",
     "text": [
      "Files in the current directory:\n",
      ".bash_history\n",
      ".condarc\n",
      ".emulator_console_auth_token\n",
      ".gitconfig\n",
      ".lesshst\n",
      ".node_repl_history\n",
      ".packettracer\n",
      "agent.jar\n",
      "EXP4.ipynb\n",
      "file.txt\n",
      "jdk-8u411-windows-x64.exe\n",
      "mongodb-windows-x86_64-7.0.12-signed.msi\n",
      "NTUSER.DAT\n",
      "ntuser.dat.LOG1\n",
      "ntuser.dat.LOG2\n",
      "NTUSER.DAT{7ca6c7f5-4afc-11ef-8164-7c5758cb245f}.TxR.0.regtrans-ms\n",
      "NTUSER.DAT{7ca6c7f5-4afc-11ef-8164-7c5758cb245f}.TxR.1.regtrans-ms\n",
      "NTUSER.DAT{7ca6c7f5-4afc-11ef-8164-7c5758cb245f}.TxR.2.regtrans-ms\n",
      "NTUSER.DAT{7ca6c7f5-4afc-11ef-8164-7c5758cb245f}.TxR.blf\n",
      "NTUSER.DAT{7ca6c7f6-4afc-11ef-8164-7c5758cb245f}.TM.blf\n",
      "NTUSER.DAT{7ca6c7f6-4afc-11ef-8164-7c5758cb245f}.TMContainer00000000000000000001.regtrans-ms\n",
      "NTUSER.DAT{7ca6c7f6-4afc-11ef-8164-7c5758cb245f}.TMContainer00000000000000000002.regtrans-ms\n",
      "ntuser.ini\n",
      "random_data.csv\n",
      "secret-file\n",
      "sukanya.c\n",
      "text.txt\n",
      "Untitled.ipynb\n",
      "Untitled1.ipynb\n",
      "Untitled2.ipynb\n"
     ]
    },
    {
     "data": {
      "text/plain": [
       "'\\nThe above scipt uses os module to perform the required function.\\nUtilize the pathlib module to perform the same functionality.\\n'"
      ]
     },
     "execution_count": 1,
     "metadata": {},
     "output_type": "execute_result"
    }
   ],
   "source": [
    "import os\n",
    "\n",
    "files = [f for f in os.listdir('.') if os.path.isfile(f)]\n",
    "\n",
    "print(\"Files in the current directory:\")\n",
    "for file in files:\n",
    "    print(file)\n",
    "\n",
    "'''\n",
    "The above scipt uses os module to perform the required function.\n",
    "Utilize the pathlib module to perform the same functionality.\n",
    "'''"
   ]
  },
  {
   "cell_type": "code",
   "execution_count": 3,
   "id": "07264812-4848-43ea-a2f7-49e78265dd0c",
   "metadata": {},
   "outputs": [
    {
     "name": "stdout",
     "output_type": "stream",
     "text": [
      "Files in the current directory:\n",
      ".bash_history\n",
      ".condarc\n",
      ".emulator_console_auth_token\n",
      ".gitconfig\n",
      ".lesshst\n",
      ".node_repl_history\n",
      ".packettracer\n",
      "agent.jar\n",
      "EXP4.ipynb\n",
      "file.txt\n",
      "jdk-8u411-windows-x64.exe\n",
      "mongodb-windows-x86_64-7.0.12-signed.msi\n",
      "NTUSER.DAT\n",
      "ntuser.dat.LOG1\n",
      "ntuser.dat.LOG2\n",
      "NTUSER.DAT{7ca6c7f5-4afc-11ef-8164-7c5758cb245f}.TxR.0.regtrans-ms\n",
      "NTUSER.DAT{7ca6c7f5-4afc-11ef-8164-7c5758cb245f}.TxR.1.regtrans-ms\n",
      "NTUSER.DAT{7ca6c7f5-4afc-11ef-8164-7c5758cb245f}.TxR.2.regtrans-ms\n",
      "NTUSER.DAT{7ca6c7f5-4afc-11ef-8164-7c5758cb245f}.TxR.blf\n",
      "NTUSER.DAT{7ca6c7f6-4afc-11ef-8164-7c5758cb245f}.TM.blf\n",
      "NTUSER.DAT{7ca6c7f6-4afc-11ef-8164-7c5758cb245f}.TMContainer00000000000000000001.regtrans-ms\n",
      "NTUSER.DAT{7ca6c7f6-4afc-11ef-8164-7c5758cb245f}.TMContainer00000000000000000002.regtrans-ms\n",
      "ntuser.ini\n",
      "random_data.csv\n",
      "secret-file\n",
      "sukanya.c\n",
      "text.txt\n",
      "Untitled.ipynb\n",
      "Untitled1.ipynb\n",
      "Untitled2.ipynb\n"
     ]
    }
   ],
   "source": [
    "from pathlib import Path\n",
    "\n",
    "files = [f for f in Path('.').iterdir() if f.is_file()]\n",
    "\n",
    "print(\"Files in the current directory:\")\n",
    "for file in files:\n",
    "    print(file)\n"
   ]
  },
  {
   "cell_type": "code",
   "execution_count": null,
   "id": "cfc2e0e0-c459-4295-8c43-a33a26696060",
   "metadata": {},
   "outputs": [],
   "source": []
  }
 ],
 "metadata": {
  "kernelspec": {
   "display_name": "Python [conda env:base] *",
   "language": "python",
   "name": "conda-base-py"
  },
  "language_info": {
   "codemirror_mode": {
    "name": "ipython",
    "version": 3
   },
   "file_extension": ".py",
   "mimetype": "text/x-python",
   "name": "python",
   "nbconvert_exporter": "python",
   "pygments_lexer": "ipython3",
   "version": "3.12.7"
  }
 },
 "nbformat": 4,
 "nbformat_minor": 5
}
